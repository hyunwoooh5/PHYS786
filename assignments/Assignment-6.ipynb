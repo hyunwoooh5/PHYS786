{
 "cells": [
  {
   "cell_type": "code",
   "execution_count": 1,
   "metadata": {
    "executionInfo": {
     "elapsed": 3290,
     "status": "ok",
     "timestamp": 1731714173900,
     "user": {
      "displayName": "Hyunwoo Oh",
      "userId": "01487607433977069291"
     },
     "user_tz": 300
    },
    "id": "iKQxXYywyeMo"
   },
   "outputs": [],
   "source": [
    "# Some basic imports\n",
    "import numpy as np\n",
    "import pickle\n",
    "import torch\n",
    "import torch.nn as nn"
   ]
  },
  {
   "cell_type": "markdown",
   "metadata": {
    "id": "4UuFrsvkrpyy"
   },
   "source": [
    "Helper functions"
   ]
  },
  {
   "cell_type": "code",
   "execution_count": null,
   "metadata": {
    "executionInfo": {
     "elapsed": 10,
     "status": "ok",
     "timestamp": 1731714173903,
     "user": {
      "displayName": "Hyunwoo Oh",
      "userId": "01487607433977069291"
     },
     "user_tz": 300
    },
    "id": "AXJQ5KnKydOI"
   },
   "outputs": [],
   "source": [
    "# Helper functions\n",
    "def _one_hot(x, k, dtype=np.float32):\n",
    "    \"\"\"Description: Create a one-hot encoding of x of size k.\"\"\"\n",
    "    return np.array(x[:, None] == np.arange(k), dtype)\n",
    "\n",
    "\n",
    "def _standardize(x):\n",
    "    \"\"\"Description: Standardization per sample across feature dimension.\"\"\"\n",
    "    axes = tuple(range(1, len(x.shape)))\n",
    "    mean = np.mean(x, axis=axes, keepdims=True)\n",
    "    std_dev = np.std(x, axis=axes, keepdims=True)\n",
    "    return (x - mean) / std_dev\n",
    "\n",
    "\n",
    "def load_data(dataset, num_classes):\n",
    "    \"\"\"Description: loads mnist dataset\"\"\"\n",
    "    path = f'../datasets/{dataset}/{dataset}.dump'\n",
    "    with open(path, 'rb') as file:\n",
    "        (x_train, y_train), (x_test, y_test) = pickle.load(file)\n",
    "\n",
    "    # flatten x_train and x_test\n",
    "    x_train = x_train.reshape(x_train.shape[0], -1)\n",
    "    x_test = x_test.reshape(x_test.shape[0], -1)\n",
    "\n",
    "    # standardize input\n",
    "    x_train, x_test = _standardize(x_train), _standardize(x_test)\n",
    "\n",
    "    # get one hot encoding for the labels\n",
    "    # y_train = _one_hot(y_train, num_classes)\n",
    "    # y_test = _one_hot(y_test, num_classes)\n",
    "\n",
    "    # get info about the numner of training and testing exammples\n",
    "    num_train = x_train.shape[0]\n",
    "    num_test = x_test.shape[0]\n",
    "\n",
    "    in_dim = x_train.shape[1]\n",
    "    out_dim = num_classes\n",
    "\n",
    "    return (x_train, y_train), (x_test, y_test), (num_train, num_test), (in_dim, out_dim)"
   ]
  },
  {
   "cell_type": "markdown",
   "metadata": {
    "id": "aN09FgPzwAXc"
   },
   "source": [
    "# Problem 1: Implementing FCNs in NumPy\n",
    "\n",
    "\n"
   ]
  },
  {
   "cell_type": "markdown",
   "metadata": {
    "id": "fNKiiT-swL6w"
   },
   "source": [
    "Task: Implement a three layer fully connected network with ReLU activation only using NumPy. Next, train the network on the MNIST dataset with Cross-entropy loss using gradient descent."
   ]
  },
  {
   "cell_type": "markdown",
   "metadata": {
    "id": "JXuZ_PQpryjM"
   },
   "source": [
    "###Task: Let us begin by implementing some basic functions. Feel free to use implementations from previous homeworks."
   ]
  },
  {
   "cell_type": "code",
   "execution_count": 83,
   "metadata": {
    "executionInfo": {
     "elapsed": 307,
     "status": "ok",
     "timestamp": 1731716842229,
     "user": {
      "displayName": "Hyunwoo Oh",
      "userId": "01487607433977069291"
     },
     "user_tz": 300
    },
    "id": "5fUR33k_axw4"
   },
   "outputs": [],
   "source": [
    "def softmax(x):\n",
    "    \"\"\"\n",
    "    Description:\n",
    "        --Compute softmax(x)\n",
    "    Inputs:\n",
    "        --x: a 2d array of shape (batch_size, in_dim)\n",
    "    Returns:\n",
    "        --y: a 2d array of shape (batch_size, in_dims)\n",
    "    \"\"\"\n",
    "    exp_x = np.exp(x - np.max(x, axis=1, keepdims=True))  # Prevent overflow\n",
    "    return exp_x / np.sum(exp_x, axis=1, keepdims=True)\n",
    "\n",
    "\n",
    "def log_softmax(x):\n",
    "    \"\"\"\n",
    "    Description:\n",
    "        --Compute log-softmax(x)\n",
    "    Inputs:\n",
    "        --x: a 2d array of shape (batch_size, in_dim)\n",
    "    Returns:\n",
    "        --y: a 2d array of shape (batch_size, in_dims)\n",
    "    \"\"\"\n",
    "    return np.log(softmax(x))\n",
    "\n",
    "\n",
    "def xent_loss(logits, targets):\n",
    "    \"\"\"\n",
    "    Description: Compute the Crossentropy loss using log_softmax and softmax\n",
    "\n",
    "    Inputs:\n",
    "        -- logits: logits of shape (batch_size, out_dim)\n",
    "        -- targets: true value of the class of shape (batch_size, out_dim)\n",
    "    Output:\n",
    "        -- crossentropy loss (float)\n",
    "    \"\"\"\n",
    "    probs = softmax(logits)\n",
    "    N = logits.shape[0]\n",
    "\n",
    "    loss = -np.sum(np.log(probs[np.arange(N), targets]))/N\n",
    "\n",
    "    return loss, probs\n",
    "\n",
    "\n",
    "def accuracy(logits, targets):\n",
    "    \"\"\"\n",
    "    Description: Compute accuracy\n",
    "    Inputs:\n",
    "        -- logits: logits of shape (batch_size, out_dim)\n",
    "        -- targets: true value of the class of shape (batch_size, out_dim)\n",
    "    Output:\n",
    "        -- crossentropy loss (float)\n",
    "    \"\"\"\n",
    "\n",
    "    # Predicted class (argmax over logits)\n",
    "    predicted_classes = np.argmax(logits, axis=1)\n",
    "\n",
    "    # True class (argmax over one-hot targets)\n",
    "    # true_classes = np.argmax(targets, dim=1)\n",
    "\n",
    "    # Calculate accuracy\n",
    "    correct_predictions = (predicted_classes == targets).sum().item()\n",
    "\n",
    "    return correct_predictions / logits.shape[0]"
   ]
  },
  {
   "cell_type": "markdown",
   "metadata": {
    "id": "ncWB38ABsL8-"
   },
   "source": [
    "###Task: Implement FCNs with ReLU activation. This method can be generalized to any depth and arbitrary widths in each layer"
   ]
  },
  {
   "cell_type": "code",
   "execution_count": null,
   "metadata": {
    "id": "1Uu2hJxeysUA"
   },
   "outputs": [],
   "source": [
    "def ReLU(x):\n",
    "    return np.maximum(0, x)\n",
    "\n",
    "\n",
    "def ReLU_derivative(x):\n",
    "    return (x > 0).astype(float)\n",
    "\n",
    "\n",
    "class FCN:\n",
    "    \"\"\"\n",
    "    Description: A class for Fully connected network. This class has three functions\n",
    "    \"\"\"\n",
    "\n",
    "    def __init__(self, in_dim, widths, out_dim):\n",
    "        \"\"\"\n",
    "        Description:\n",
    "        --This is called when an instance (object) of the class is created.\n",
    "        --Example of an instance call: model = FCN(in_dim, widths, out_dim)\n",
    "        --This initializes the model weights and creates and empty dictionary to store activations for backward pass\n",
    "        --Class variables are created as self.variable, which can be accessed through any function of the class using self.variable\n",
    "        Inputs:\n",
    "            in_dim: input dimension\n",
    "            widths: Tuple of widths of hidden layers (N1, N2)\n",
    "            out_dim: output dimension / number of classes\n",
    "        Returns: Nothing\n",
    "        \"\"\"\n",
    "\n",
    "        self.N1, self.N2 = widths\n",
    "\n",
    "        \"Create a dictionary for storing parameters; initialize the parameters randomly. The parameters are numpy arrays of shapes (fan_in, fan_out)\"\n",
    "        self.params = {}  # dictionary of parameters\n",
    "        # Figure out the shapes of the weights and biases\n",
    "\n",
    "        # First layer\n",
    "        self.params['w1'] = np.random.normal(\n",
    "            size=(in_dim, self.N1))  * np.sqrt(2. / in_dim) # avoid initial inf/nan \n",
    "        self.params['b1'] = np.zeros((1, self.N1))\n",
    "        # Second layer\n",
    "        self.params['w2'] = np.random.normal(\n",
    "            size=(self.N1, self.N2))  * np.sqrt(2. / self.N1)\n",
    "        self.params['b2'] = np.zeros((1, self.N2))\n",
    "        # Last layer\n",
    "        self.params['w3'] = np.random.normal(\n",
    "            size=(self.N2, out_dim)) * np.sqrt(2. / self.N2)\n",
    "        self.params['b3'] = np.zeros((1, out_dim))\n",
    "\n",
    "        \"Create a dictionary for storing the activations through the forward pass; These activations are used in the backward pass\"\n",
    "        self.cache = {}  # Nothing to do here\n",
    "\n",
    "    def forward(self, X, targets=None):\n",
    "        \"\"\"\n",
    "        Description:\n",
    "            -- Compute the forward pass of the neural network function f(x)\n",
    "            -- Store the preactivations and activations in self.cache dictionary\n",
    "            -- Compute the cross entropy loss.\n",
    "        Input:\n",
    "            -- X: input batch of size (batch_size, in_dim)\n",
    "        Returns:\n",
    "            -- crossentropy loss: float\n",
    "            -- You may wanna calculate accuracy and return that as well\n",
    "        \"\"\"\n",
    "        # If your input is an image, reshape it to an array. If its already an array, this operation does nothing\n",
    "        X = X.reshape(X.shape[0], -1)\n",
    "\n",
    "        # First layer\n",
    "\n",
    "        # Affine transformation: h = x w + b\n",
    "        # ReLU activation: z = ReLU(h)\n",
    "\n",
    "        h1 = X @ self.params['w1'] + self.params['b1']\n",
    "        z1 = ReLU(h1)\n",
    "\n",
    "        # Second layer\n",
    "        # Affine transformation: h = x w + b\n",
    "        # ReLU activation: z = ReLU(h)\n",
    "\n",
    "        h2 = z1 @ self.params['w2'] + self.params['b2']\n",
    "        z2 = ReLU(h2)\n",
    "\n",
    "        # Third layer\n",
    "        # Affine transformation: h = x w + b\n",
    "        # ReLU activation: z = ReLU(h)\n",
    "\n",
    "        # compute the loss using xent_loss function\n",
    "\n",
    "        logits = z2 @ self.params['w3'] + self.params['b3']\n",
    "        # z3 = ReLU(h3)\n",
    "\n",
    "        self.cache = {'X': X, 'h1': h1, 'z1': z1,\n",
    "                      'h2': h2, 'z2': z2, 'logits': logits}\n",
    "\n",
    "        if targets is not None:\n",
    "            loss, probs = xent_loss(logits, targets)\n",
    "            acc = accuracy(logits, targets)\n",
    "            self.cache['probs'] = probs\n",
    "            self.cache['targets'] = targets\n",
    "            return loss, acc\n",
    "        else:\n",
    "            return logits\n",
    "\n",
    "    def backward(self, X, y, lr):\n",
    "        \"\"\"\n",
    "        Description:\n",
    "            -- Compute the gradients for every trainable parameter using the stored pre-activations and activations in self.cache dictionary\n",
    "            -- Update the parameters using update_params() function\n",
    "        Input:\n",
    "            -- X: inputs of size (batch_size, in_dim)\n",
    "            -- y: outputs of size (batch_size, out_dim)\n",
    "            -- lr: learning rate\n",
    "        Returns:\n",
    "            -- Nothing\n",
    "        \"\"\"\n",
    "        # calculate gradients using back propagation\n",
    "        grads = {}  # you dont need to store gradients; so, create local variables only\n",
    "\n",
    "        N = X.shape[0]\n",
    "\n",
    "        # Gradient of loss w.r.t logits\n",
    "        probs = self.cache['probs']\n",
    "\n",
    "        y_one_hot = np.zeros_like(probs)\n",
    "        y_one_hot[np.arange(N), y] = 1\n",
    "\n",
    "        dlogits = (probs - y_one_hot) / N  # dL/dh_3, corresponds to \\delta^3\n",
    "\n",
    "        # Gradients for w3 and b3\n",
    "        # dL/dw3 = (dL/d_logits) * (d_logits/dw3) = z2.T @ d_logits\n",
    "        # @ is for batch calculation\n",
    "        grads['w3'] = self.cache['z2'].T @ dlogits\n",
    "        grads['b3'] = np.sum(dlogits, axis=0, keepdims=True)  # sum over batch\n",
    "\n",
    "        # Backpropagation to layer 2\n",
    "        d_z2 = dlogits @ self.params['w3'].T\n",
    "        d_h2 = d_z2 * ReLU_derivative(self.cache['h2'])  # \\delta^2\n",
    "\n",
    "        # Gradients for layer 2\n",
    "        grads['w2'] = self.cache['z1'].T @ d_h2\n",
    "        grads['b2'] = np.sum(d_h2, axis=0, keepdims=True)\n",
    "\n",
    "        # Backpropagation to layer 1\n",
    "        d_z1 = d_h2 @ self.params['w2'].T\n",
    "        d_h1 = d_z1 * ReLU_derivative(self.cache['h1'])  # \\delta^1\n",
    "\n",
    "        # Gradients for layer 1\n",
    "        grads['w1'] = self.cache['X'].T @ d_h1\n",
    "        grads['b1'] = np.sum(d_h1, axis=0, keepdims=True)\n",
    "\n",
    "        # update parameters using update_params function\n",
    "        self.update_params(grads, lr)\n",
    "\n",
    "    def update_params(self, gradients, lr):\n",
    "        \"\"\"\n",
    "        Description:\n",
    "            --Update parameters self.params using gradient descent\n",
    "        Inputs:\n",
    "            -- gradients: dictionary of gradients\n",
    "        Outputs:\n",
    "            -- Nothing\n",
    "        \"\"\"\n",
    "\n",
    "        # update paramters using sgd\n",
    "        for key in self.params:\n",
    "            self.params[key] -= lr * gradients[key]"
   ]
  },
  {
   "cell_type": "markdown",
   "metadata": {
    "id": "nT8-OgeCwMyf"
   },
   "source": [
    "### Task: Train the implemented FCN on MNIST dataset with the crossentropy loss using Stochastic Gradient Descent (SGD) and report test accuracy."
   ]
  },
  {
   "cell_type": "code",
   "execution_count": null,
   "metadata": {
    "colab": {
     "base_uri": "https://localhost:8080/"
    },
    "executionInfo": {
     "elapsed": 1256,
     "status": "ok",
     "timestamp": 1682454673856,
     "user": {
      "displayName": "Dayal Kalra",
      "userId": "08303688375445058607"
     },
     "user_tz": 240
    },
    "id": "E36fPkGbk9tg",
    "outputId": "236513ed-fa66-4cad-8f34-fe0ab738245a"
   },
   "outputs": [
    {
     "name": "stdout",
     "output_type": "stream",
     "text": [
      "Step 0/1000 | Loss: 3.4498 | Accuracy: 0.0781\n",
      "Step 100/1000 | Loss: 0.3243 | Accuracy: 0.8750\n",
      "Step 200/1000 | Loss: 0.1189 | Accuracy: 0.9688\n",
      "Step 300/1000 | Loss: 0.2345 | Accuracy: 0.9219\n",
      "Step 400/1000 | Loss: 0.1424 | Accuracy: 0.9688\n",
      "Step 500/1000 | Loss: 0.0350 | Accuracy: 1.0000\n",
      "Step 600/1000 | Loss: 0.0778 | Accuracy: 0.9609\n",
      "Step 700/1000 | Loss: 0.0834 | Accuracy: 0.9688\n",
      "Step 800/1000 | Loss: 0.0502 | Accuracy: 0.9766\n",
      "Step 900/1000 | Loss: 0.0611 | Accuracy: 0.9922\n",
      "Test accuracy: 0.9705\n"
     ]
    }
   ],
   "source": [
    "# Load data from Google colab\n",
    "(x_train, y_train), (x_test, y_test), (num_train,\n",
    "                                       num_test), (in_dim, out_dim) = load_data('mnist', num_classes=10)\n",
    "\n",
    "widths = (512, 512)  # hidden layer widths\n",
    "\n",
    "np.random.seed(42)\n",
    "\n",
    "# create an isntance of the FCN class\n",
    "model = FCN(in_dim, widths, out_dim)\n",
    "\n",
    "# learning rate\n",
    "lr = 1e-1\n",
    "\n",
    "# number of training steps\n",
    "num_steps = 1000\n",
    "batch_size = 128\n",
    "\n",
    "for step in range(num_steps):\n",
    "    indices = np.random.choice(num_train, batch_size)\n",
    "    x_batch, y_batch = x_train[indices], y_train[indices]\n",
    "    # x_batch, y_batch = x_train, y_train\n",
    "\n",
    "    # forward pass\n",
    "    loss, acc = model.forward(x_batch, y_batch)\n",
    "\n",
    "    # backward pass & update parameters\n",
    "    model.backward(x_batch, y_batch, lr)\n",
    "\n",
    "    if step % 100 == 0:\n",
    "        print(\n",
    "            f'Step {step}/{num_steps} | Loss: {loss:.4f} | Accuracy: {acc:.4f}')\n",
    "\n",
    "\n",
    "# calculate the final test accuracy\n",
    "_, test_accuracy = model.forward(x_test, y_test)\n",
    "print(f'Test accuracy: {test_accuracy:0.4f}')  # float64"
   ]
  },
  {
   "cell_type": "markdown",
   "metadata": {
    "id": "yXp-2sX8wl9Z"
   },
   "source": [
    "# Problem 2: Implementing FCNs using Pytorch autograd\n",
    "\n",
    "In this problem, we will Pytorch autograd to easily calculate the gradients of trainable parameters.\n",
    "\n",
    "* Pytorch stores all variables as torch.tensors instead of numpy arrays. This means that numpy operations must be replaced with torch operations.\n",
    "\n",
    "* Additionally, torch.tensors have an attribute called requires_grad which allows for automatic gradient computation using Autograd.\n",
    "\n",
    "* When using Pytorch, a computational graph of operations performed using the trainable parameters is created. For example, if we have a final scalar output L at the end of the computational graph of a variable w, L.backward() will populate the gradients at w.grad.\n",
    "\n",
    "Note: It would be helpful to look at Pytorch tutorial before implementing this."
   ]
  },
  {
   "cell_type": "markdown",
   "metadata": {
    "id": "Yu3YkPAMss-A"
   },
   "source": [
    "### Task: As the basic building block in Pytorch is tensor, we need to generalize all functions to perform operations on tensors.\n",
    "\n",
    "Tip: Various functions can be called directly as variable.function() for both torch and numpy. For example, consider a variable x, then x.mean() computes the mean regardless of x being a NumPy array or torch tensor."
   ]
  },
  {
   "cell_type": "code",
   "execution_count": null,
   "metadata": {
    "id": "w4rgDZUvxP4b"
   },
   "outputs": [],
   "source": [
    "def softmax(x):\n",
    "    \"\"\"\n",
    "    Description:\n",
    "        --Compute softmax(x)\n",
    "    Inputs:\n",
    "        --x: a 2d array of shape (batch_size, in_dim)\n",
    "    Returns:\n",
    "        --y: a 2d array of shape (batch_size, in_dims)\n",
    "    \"\"\"\n",
    "    exp_x = torch.exp(\n",
    "        x - torch.max(x, axis=1, keepdims=True).values)  # Prevent overflow\n",
    "    return exp_x / exp_x.sum()\n",
    "\n",
    "\n",
    "def log_softmax(x):\n",
    "    \"\"\"\n",
    "    Description:\n",
    "        --Compute log-softmax(x)\n",
    "    Inputs:\n",
    "        --x: a 2d array of shape (batch_size, in_dim)\n",
    "    Returns:\n",
    "        --y: a 2d array of shape (batch_size, in_dims)\n",
    "    \"\"\"\n",
    "    return torch.log(softmax(x))\n",
    "\n",
    "\n",
    "def xent_loss(logits, targets):\n",
    "    \"\"\"\n",
    "    Description: Compute the Crossentropy loss using log_softmax and softmax\n",
    "\n",
    "    Inputs:\n",
    "        -- logits: logits of shape (batch_size, out_dim)\n",
    "        -- targets: true value of the class of shape (batch_size, out_dim)\n",
    "    Output:\n",
    "        -- crossentropy loss (float)\n",
    "    \"\"\"\n",
    "\n",
    "    N = logits.shape[0]\n",
    "    targets = torch.nn.functional.one_hot(targets, num_classes=10)\n",
    "    log_probs = log_softmax(logits)\n",
    "\n",
    "    loss = -torch.sum(targets * log_probs) / N\n",
    "\n",
    "    return loss  # , probs\n",
    "\n",
    "\n",
    "def accuracy(logits, targets):\n",
    "    \"\"\"\n",
    "    Description: Compute accuracy\n",
    "    Inputs:\n",
    "        -- logits: logits of shape (batch_size, out_dim)\n",
    "        -- targets: true value of the class of shape (batch_size, out_dim)\n",
    "    Output:\n",
    "        -- crossentropy loss (float)\n",
    "    \"\"\"\n",
    "    targets = torch.nn.functional.one_hot(targets, num_classes=10)\n",
    "    targets = torch.argmax(targets, axis=1)\n",
    "\n",
    "    predicted_classes = torch.argmax(logits, axis=1)\n",
    "\n",
    "    correct_predictions = (predicted_classes == targets).float().mean()\n",
    "\n",
    "    return correct_predictions\n",
    "\n",
    "    correct_predictions = (predicted_classes == targets).sum().item()\n",
    "    return correct_predictions / logits.shape[0]"
   ]
  },
  {
   "cell_type": "markdown",
   "metadata": {
    "id": "yIfqGRctxNlD"
   },
   "source": [
    "### Task: Implement a three layer FCN with ReLU activation using Pytorch autograd\n",
    "\n",
    "Implement a three layer FCN with the following differences:\n",
    "\n",
    "* Inputs are torch tensors\n",
    "* Parameters are torch tensors\n",
    "* Compute the gradients using loss.backward()\n",
    "* update the parameters 'in place' using param.grad\n",
    "\n",
    "Note: All computations should be done using torch instead of numpy\n",
    "\n"
   ]
  },
  {
   "cell_type": "markdown",
   "metadata": {
    "id": "acTMZ0QG1yqr"
   },
   "source": [
    "Model definition"
   ]
  },
  {
   "cell_type": "code",
   "execution_count": null,
   "metadata": {
    "id": "DT-LwZp010C8"
   },
   "outputs": [],
   "source": [
    "def ReLU(x):\n",
    "    \"Implement element wise ReLU operation for x.shape = (batch_size, in_size)\"\n",
    "    return torch.clamp(x, min=0.0)\n",
    "\n",
    "\n",
    "class FCN:\n",
    "    \"\"\"\n",
    "    Description: A class for Fully connected network. This class has three functions\n",
    "    \"\"\"\n",
    "\n",
    "    def __init__(self, in_dim, widths, out_dim):\n",
    "        \"\"\"\n",
    "        Description:\n",
    "        --This is called when an instance (object) of the class is created.\n",
    "        --Example of an instance call: model = FCN(in_dim, widths, out_dim)\n",
    "        --This initializes the model weights\n",
    "        --Class variables are created as self.variable, which can be accessed through any function of the class using self.variable\n",
    "        Inputs:\n",
    "            in_dim: input dimension\n",
    "            widths: Tuple of widths of hidden layers (N1, N2)\n",
    "            out_dim: output dimension / number of classes\n",
    "        Returns: Nothing\n",
    "        \"\"\"\n",
    "        self.in_dim = in_dim\n",
    "        self.N1, self.N2 = widths\n",
    "        self.out_dim = out_dim\n",
    "\n",
    "        self.relu = torch.nn.ReLU()\n",
    "\n",
    "        \"Create a dictionary for storing parameters; initialize the parameters randomly using torch.randn() . The parameters are torch arrays of shapes (fan_in, fan_out)\"\n",
    "        self.params = {}  # dictionary of parameters\n",
    "        # Figure out the shapes of the weights and biases\n",
    "\n",
    "        # First layer\n",
    "        self.params['w1'] = torch.randn(\n",
    "            size=(in_dim, self.N1), dtype=torch.float32) * (2.0 / in_dim)**0.5\n",
    "        self.params['b1'] = torch.randn(\n",
    "            size=(1, self.N1),  dtype=torch.float32)\n",
    "        # Second layer\n",
    "        self.params['w2'] = torch.randn(\n",
    "            size=(self.N1, self.N2), dtype=torch.float32) * (2.0 / self.N1)**0.5\n",
    "        self.params['b2'] = torch.randn(\n",
    "            size=(1, self.N2),  dtype=torch.float32)\n",
    "        # Last layer\n",
    "        self.params['w3'] = torch.randn(\n",
    "            size=(self.N2, out_dim), dtype=torch.float32) * (2.0 / self.N2)**0.5\n",
    "        self.params['b3'] = torch.randn(\n",
    "            size=(1, out_dim),  dtype=torch.float32)\n",
    "\n",
    "        for p in self.params.values():\n",
    "            p.requires_grad = True\n",
    "\n",
    "    def forward(self, X):\n",
    "        \"\"\"\n",
    "        Description:\n",
    "            -- Compute the forward pass of the neural network function f(x)\n",
    "            -- Returns f(x); estimate the loss in the optimizer loop instead\n",
    "        Input:\n",
    "            -- X: input batch of size (batch_size, in_dim)\n",
    "        Returns:\n",
    "            -- function output f(x) # this is more general\n",
    "        \"\"\"\n",
    "        # If your input is an image, reshape it to an array. If its already an array, this operation does nothing\n",
    "        X = X.reshape(X.shape[0], -1)\n",
    "\n",
    "        # First layer\n",
    "\n",
    "        # Affine transformation: h = x w + b\n",
    "        # ReLU activation: z = ReLU(h)\n",
    "        self.h1 = torch.matmul(X, self.params['w1']).add(self.params['b1']) # .mul(torch.sqrt(2./torch.tensor(self.in_dim)))\n",
    "        self.z1 = self.relu(self.h1)\n",
    "\n",
    "        # Second layer\n",
    "        # Affine transformation: h = x w + b\n",
    "        # ReLU activation: z = ReLU(h)\n",
    "\n",
    "        self.h2 = torch.matmul(self.z1, self.params['w2']).add(\n",
    "            self.params['b2'])  # .mul(torch.sqrt(2./torch.tensor(self.N1)))\n",
    "        self.z2 = self.relu(self.h2)\n",
    "\n",
    "        # Third layer\n",
    "        # Affine transformation: h = x w + b\n",
    "        # ReLU activation: z = ReLU(h)\n",
    "        self.h3 = torch.matmul(self.z2, self.params['w3']).add(\n",
    "            self.params['b3'])  # .mul(torch.sqrt(2./torch.tensor(self.N2)))\n",
    "\n",
    "        return self.h3\n",
    "\n",
    "    def update_params(self, lr):\n",
    "        \"\"\"\n",
    "        Description:\n",
    "            --Update parameters using self.params['w'].grad\n",
    "        Inputs:\n",
    "            -- Nothing\n",
    "        Outputs:\n",
    "            -- Nothing\n",
    "        \"\"\"\n",
    "\n",
    "        # update paramters using sgd\n",
    "        for key in self.params:\n",
    "            self.params[key] -= lr * self.params[key].grad\n",
    "\n",
    "        # Zero out gradients\n",
    "        for key in self.params:\n",
    "            self.params[key].grad.zero_()\n",
    "\n",
    "        return"
   ]
  },
  {
   "cell_type": "markdown",
   "metadata": {
    "id": "8ByASvsw4U5Z"
   },
   "source": [
    "Task: Train the implemented FCN on MNIST dataset with the crossentropy loss using Gradient Descent (GD)."
   ]
  },
  {
   "cell_type": "code",
   "execution_count": null,
   "metadata": {
    "colab": {
     "base_uri": "https://localhost:8080/"
    },
    "executionInfo": {
     "elapsed": 808,
     "status": "ok",
     "timestamp": 1682454674663,
     "user": {
      "displayName": "Dayal Kalra",
      "userId": "08303688375445058607"
     },
     "user_tz": 240
    },
    "id": "b6UuQ5EA36eg",
    "outputId": "5577578e-44c6-4950-8f2f-21081eb2c5c2"
   },
   "outputs": [
    {
     "name": "stdout",
     "output_type": "stream",
     "text": [
      "Step 0/1000 | Loss: 10.1879 | Accuracy: 0.0469\n",
      "Step 100/1000 | Loss: 5.8117 | Accuracy: 0.9297\n",
      "Step 200/1000 | Loss: 5.7001 | Accuracy: 0.9492\n",
      "Step 300/1000 | Loss: 5.7302 | Accuracy: 0.9414\n",
      "Step 400/1000 | Loss: 5.6503 | Accuracy: 0.9727\n",
      "Step 500/1000 | Loss: 5.6424 | Accuracy: 0.9766\n",
      "Step 600/1000 | Loss: 5.6556 | Accuracy: 0.9688\n",
      "Step 700/1000 | Loss: 5.6340 | Accuracy: 0.9766\n",
      "Step 800/1000 | Loss: 5.6099 | Accuracy: 0.9805\n",
      "Step 900/1000 | Loss: 5.5983 | Accuracy: 0.9883\n",
      "Test accuracy: 0.9701\n"
     ]
    }
   ],
   "source": [
    "# Load data\n",
    "(x_train, y_train), (x_test, y_test), (num_train,\n",
    "                                       num_test), (in_dim, out_dim) = load_data('mnist', num_classes=10)\n",
    "\n",
    "# converts variables to tensor\n",
    "x_train = torch.as_tensor(x_train, dtype=torch.float32)\n",
    "y_train = torch.as_tensor(y_train, dtype=torch.long)\n",
    "\n",
    "x_test = torch.as_tensor(x_test, dtype=torch.float32)\n",
    "y_test = torch.as_tensor(y_test, dtype=torch.long)\n",
    "\n",
    "\n",
    "torch.manual_seed(42)\n",
    "\n",
    "widths = (512, 512)  # hidden layer widths\n",
    "model = FCN(in_dim, widths, out_dim)\n",
    "\n",
    "lr = 1e-1\n",
    "\n",
    "num_steps = 1000\n",
    "batch_size = 256\n",
    "\n",
    "for step in range(num_steps):\n",
    "\n",
    "    indices = torch.randint(0, num_train, (batch_size,))\n",
    "    x_batch, y_batch = x_train[indices], y_train[indices]\n",
    "\n",
    "    # forward pass\n",
    "    train_logits = model.forward(x_batch)\n",
    "\n",
    "    # compute loss\n",
    "    loss = xent_loss(train_logits, y_batch)\n",
    "\n",
    "    # Compute gradients\n",
    "    loss.backward()\n",
    "\n",
    "    # update parameters and zero out gradients\n",
    "    with torch.no_grad():\n",
    "        model.update_params(lr)\n",
    "        acc = accuracy(train_logits, y_batch)\n",
    "\n",
    "    if step % 100 == 0:\n",
    "        print(\n",
    "            f'Step {step}/{num_steps} | Loss: {loss:.4f} | Accuracy: {acc:.4f}')\n",
    "\n",
    "\n",
    "test_logits = model.forward(x_test)\n",
    "test_accuracy = accuracy(test_logits, y_test)\n",
    "\n",
    "print(f'Test accuracy: {test_accuracy:0.4f}')  # float32"
   ]
  },
  {
   "cell_type": "markdown",
   "metadata": {
    "id": "YFpKeZD71mA0"
   },
   "source": [
    "# Problem 3: Implementing FCNs using Pytorch nn.Module\n",
    "\n",
    "In this problem, we will implement FCNs using Pytorch nn.Module and train using Pytorch defined loss function, optimizer and data loading functions. We will train FCNs on the Ising dataset and CIFAR-10 image dataset."
   ]
  },
  {
   "cell_type": "markdown",
   "metadata": {
    "id": "PBG5z7kTloh4"
   },
   "source": [
    "### (a) The Ising dataset\n",
    "\n",
    "The Ising dataset consists of Ising lattices in two different phases. We will use FCNs to classify the two phases."
   ]
  },
  {
   "cell_type": "markdown",
   "metadata": {
    "id": "_C2R0BOsyzNd"
   },
   "source": [
    "Let us load the Ising dataset"
   ]
  },
  {
   "cell_type": "code",
   "execution_count": 134,
   "metadata": {
    "executionInfo": {
     "elapsed": 2506,
     "status": "ok",
     "timestamp": 1731717469186,
     "user": {
      "displayName": "Hyunwoo Oh",
      "userId": "01487607433977069291"
     },
     "user_tz": 300
    },
    "id": "XGZrqG39Zmmd"
   },
   "outputs": [],
   "source": [
    "from urllib.request import urlopen\n",
    "from sklearn.model_selection import train_test_split"
   ]
  },
  {
   "cell_type": "code",
   "execution_count": 135,
   "metadata": {
    "executionInfo": {
     "elapsed": 2,
     "status": "ok",
     "timestamp": 1731717469186,
     "user": {
      "displayName": "Hyunwoo Oh",
      "userId": "01487607433977069291"
     },
     "user_tz": 300
    },
    "id": "9yqpBZ6Z1lle"
   },
   "outputs": [],
   "source": [
    "np.random.seed(42)  # shuffle random seed generator\n",
    "\n",
    "# Ising model parameters\n",
    "L = 40  # linear system size\n",
    "J = -1.0  # Ising interaction\n",
    "T = np.linspace(0.25, 4.0, 16)  # set of temperatures\n",
    "T_c = 2.26  # Onsager critical temperature in the TD limit"
   ]
  },
  {
   "cell_type": "code",
   "execution_count": null,
   "metadata": {
    "executionInfo": {
     "elapsed": 15643,
     "status": "ok",
     "timestamp": 1731718105453,
     "user": {
      "displayName": "Hyunwoo Oh",
      "userId": "01487607433977069291"
     },
     "user_tz": 300
    },
    "id": "_FWP92muZef-"
   },
   "outputs": [],
   "source": [
    "# url to data\n",
    "url_main = 'https://physics.bu.edu/~pankajm/ML-Review-Datasets/isingMC/';\n",
    "\n",
    "######### LOAD DATA\n",
    "# The data consists of 16*10000 samples taken in T=np.arange(0.25,4.0001,0.25):\n",
    "data_file_name = \"Ising2DFM_reSample_L40_T=All.pkl\"\n",
    "# The labels are obtained from the following file:\n",
    "label_file_name = \"Ising2DFM_reSample_L40_T=All_labels.pkl\"\n",
    "\n",
    "\n",
    "#DATA\n",
    "data = pickle.load(urlopen(url_main + data_file_name)) # pickle reads the file and returns the Python object (1D array, compressed bits)\n",
    "data = np.unpackbits(data).reshape(-1, 1600) # Decompress array and reshape for convenience\n",
    "data=data.astype('int')\n",
    "data[np.where(data == 0)] = -1 # map 0 state to -1 (Ising variable can take values +/-1)\n",
    "\n",
    "#LABELS (convention is 1 for ordered states and 0 for disordered states)\n",
    "labels = pickle.load(urlopen(url_main + label_file_name)) # pickle reads the file and returns the Python object (here just a 1D array with the binary labels)\n"
   ]
  },
  {
   "cell_type": "code",
   "execution_count": 143,
   "metadata": {
    "executionInfo": {
     "elapsed": 1746,
     "status": "ok",
     "timestamp": 1731718107198,
     "user": {
      "displayName": "Hyunwoo Oh",
      "userId": "01487607433977069291"
     },
     "user_tz": 300
    },
    "id": "PiibDf6BZiWT"
   },
   "outputs": [],
   "source": [
    "# define ML parameters\n",
    "num_classes = 2\n",
    "train_to_test_ratio = 0.5  # training samples\n",
    "\n",
    "# divide data into ordered, critical and disordered\n",
    "X_ordered = data[:70000, :]\n",
    "# Y_ordered = labels[:70000]\n",
    "Y_ordered = np.zeros(X_ordered.shape[0]).astype(int)\n",
    "\n",
    "# X_critical = data[70000:100000,:]\n",
    "# Y_critical = labels[70000:100000]\n",
    "\n",
    "X_disordered = data[100000:, :]\n",
    "# Y_disordered = labels[100000:]\n",
    "Y_disordered = np.ones(X_disordered.shape[0]).astype(int)\n",
    "\n",
    "# define training and test data sets\n",
    "X = np.concatenate((X_ordered, X_disordered))\n",
    "Y = np.concatenate((Y_ordered, Y_disordered))\n",
    "\n",
    "# pick random data points from ordered and disordered states\n",
    "# to create the training and test sets\n",
    "X_train, X_test, Y_train, Y_test = train_test_split(\n",
    "    X, Y, train_size=train_to_test_ratio, test_size=1.0-train_to_test_ratio)\n",
    "\n",
    "X_train = X_train.astype(np.float32)\n",
    "X_test = X_test.astype(np.float32)"
   ]
  },
  {
   "cell_type": "code",
   "execution_count": 144,
   "metadata": {
    "colab": {
     "base_uri": "https://localhost:8080/"
    },
    "executionInfo": {
     "elapsed": 2,
     "status": "ok",
     "timestamp": 1731718108217,
     "user": {
      "displayName": "Hyunwoo Oh",
      "userId": "01487607433977069291"
     },
     "user_tz": 300
    },
    "id": "biw4KfQIago_",
    "outputId": "5ea62fe0-03eb-4301-f645-6e92055d9c3a"
   },
   "outputs": [
    {
     "name": "stdout",
     "output_type": "stream",
     "text": [
      "Device: cpu\n"
     ]
    }
   ],
   "source": [
    "device = 'cuda' if torch.cuda.is_available() else 'cpu'\n",
    "print(f'Device: {device}')"
   ]
  },
  {
   "cell_type": "markdown",
   "metadata": {
    "id": "z4qHShTTBDKe"
   },
   "source": [
    "Pytorch DataLoaders:\n",
    "\n",
    "* Pytorch uses torch.utils.data.DataLoader for loading data during training.\n",
    "\n",
    "* The dataloader takes in a torch.utils.data.Dataset object as the dataset.\n",
    "\n",
    "* Let us create Dataset classes for the Ising dataset."
   ]
  },
  {
   "cell_type": "code",
   "execution_count": 145,
   "metadata": {
    "executionInfo": {
     "elapsed": 339,
     "status": "ok",
     "timestamp": 1731718110574,
     "user": {
      "displayName": "Hyunwoo Oh",
      "userId": "01487607433977069291"
     },
     "user_tz": 300
    },
    "id": "Va-jI2OHa7Uh"
   },
   "outputs": [],
   "source": [
    "class IsingDataset(torch.utils.data.Dataset):\n",
    "    def __init__(self, x, y):\n",
    "        self.x = x\n",
    "        self.y = y\n",
    "\n",
    "    def __len__(self):\n",
    "        return len(self.x)\n",
    "\n",
    "    def __getitem__(self, index):\n",
    "        image = self.x[index]\n",
    "        label = self.y[index]\n",
    "        return image, label\n",
    "\n",
    "# Create dataset objects from the raw data\n",
    "train_dataset = IsingDataset(X_train, Y_train)\n",
    "test_dataset = IsingDataset(X_test, Y_test)"
   ]
  },
  {
   "cell_type": "markdown",
   "metadata": {
    "id": "ud0A_JbXBOZc"
   },
   "source": [
    "Next, create dataloader objects with batch size of 512 for loading data at every step."
   ]
  },
  {
   "cell_type": "code",
   "execution_count": 146,
   "metadata": {
    "executionInfo": {
     "elapsed": 2,
     "status": "ok",
     "timestamp": 1731718111975,
     "user": {
      "displayName": "Hyunwoo Oh",
      "userId": "01487607433977069291"
     },
     "user_tz": 300
    },
    "id": "gpHYOGh-aKFh"
   },
   "outputs": [],
   "source": [
    "#Hyperparameters\n",
    "\n",
    "lr_rate = 0.1\n",
    "input_size = X_train.shape[1]\n",
    "hidden_size = 512\n",
    "num_epochs = 10\n",
    "batch_size = 128\n",
    "\n",
    "# create dataloder objects\n",
    "train_loader = torch.utils.data.DataLoader(dataset = train_dataset, batch_size = batch_size, shuffle = True)\n",
    "test_loader = torch.utils.data.DataLoader(dataset = test_dataset, batch_size = batch_size, shuffle = False)"
   ]
  },
  {
   "cell_type": "markdown",
   "metadata": {
    "id": "KbdTNoYEzTg8"
   },
   "source": [
    "### Task: Create a neural network using Pytorch neural network library (torch.nn).\n",
    "\n",
    "Define a three layer ReLU FCN using the following layers:\n",
    "\n",
    "* nn.Linear with input dimensions n_in and output dimensions n_out\n",
    "* nn.ReLU in __init__ or nn.functional.ReLU in forward for implementing ReLU activation"
   ]
  },
  {
   "cell_type": "code",
   "execution_count": 147,
   "metadata": {
    "executionInfo": {
     "elapsed": 411,
     "status": "ok",
     "timestamp": 1731718789072,
     "user": {
      "displayName": "Hyunwoo Oh",
      "userId": "01487607433977069291"
     },
     "user_tz": 300
    },
    "id": "P56Q1is1Zxn6"
   },
   "outputs": [],
   "source": [
    "class NeuralNet(nn.Module):\n",
    "    def __init__(self, input_size, hidden_size, num_classes):\n",
    "        super(NeuralNet, self).__init__()\n",
    "        self.fc1 = nn.Linear(input_size, hidden_size)\n",
    "        self.fc2 = nn.Linear(hidden_size, hidden_size)\n",
    "        self.fc3 = nn.Linear(hidden_size, num_classes)\n",
    "        self.ReLU = nn.ReLU()\n",
    "\n",
    "\n",
    "    def forward(self, x):\n",
    "        x = x.view(x.size(0), -1) # resize in case the input is an image\n",
    "        x = self.ReLU(self.fc1(x))\n",
    "        x = self.ReLU(self.fc2(x))\n",
    "        x = self.fc3(x)\n",
    "        return x"
   ]
  },
  {
   "cell_type": "markdown",
   "metadata": {
    "id": "m_Be0cSFl_1A"
   },
   "source": [
    "### Task: Train the above FCN on the Ising Model and report test accuracy.\n",
    "\n",
    "* Define the loss function using nn.CrossEntropyLoss()\n",
    "* Define the optimizer using torch.optim.SGD(). The first input to optimizers is a set of model parameters, which can be accessed through model.parameters()."
   ]
  },
  {
   "cell_type": "code",
   "execution_count": 150,
   "metadata": {
    "colab": {
     "base_uri": "https://localhost:8080/"
    },
    "executionInfo": {
     "elapsed": 13915,
     "status": "ok",
     "timestamp": 1731719560561,
     "user": {
      "displayName": "Hyunwoo Oh",
      "userId": "01487607433977069291"
     },
     "user_tz": 300
    },
    "id": "YWLlSRUDaFX8",
    "outputId": "109376b0-d6c5-459b-9e75-9f8672aa6cae"
   },
   "outputs": [
    {
     "name": "stdout",
     "output_type": "stream",
     "text": [
      "Epoch 0 | Loss: 0.0004963688 | Accuracy: 0.9973692308\n",
      "Epoch 1 | Loss: 0.0001273320 | Accuracy: 0.9997846154\n",
      "Epoch 2 | Loss: 0.0001124461 | Accuracy: 0.9999846154\n",
      "Epoch 3 | Loss: 0.0000798445 | Accuracy: 1.0000000000\n",
      "Epoch 4 | Loss: 0.0000475480 | Accuracy: 1.0000000000\n",
      "Epoch 5 | Loss: 0.0000390161 | Accuracy: 1.0000000000\n",
      "Epoch 6 | Loss: 0.0000520239 | Accuracy: 1.0000000000\n",
      "Epoch 7 | Loss: 0.0000522013 | Accuracy: 1.0000000000\n",
      "Epoch 8 | Loss: 0.0000327825 | Accuracy: 1.0000000000\n",
      "Epoch 9 | Loss: 0.0000209467 | Accuracy: 1.0000000000\n",
      "Test Accuracy: 1.0000\n"
     ]
    }
   ],
   "source": [
    "torch.manual_seed(42)\n",
    "\n",
    "model = NeuralNet(input_size, hidden_size, num_classes)\n",
    "\n",
    "# model, input output data should be on the same device\n",
    "model.to(device)\n",
    "\n",
    "loss = nn.CrossEntropyLoss()\n",
    "optimizer = torch.optim.SGD(model.parameters(), lr=lr_rate)\n",
    "\n",
    "n_total_steps = len(train_loader)\n",
    "\n",
    "for epoch in range(num_epochs):\n",
    "    correct, total = 0, 0\n",
    "\n",
    "    for i, (imgs, labels) in enumerate(train_loader):\n",
    "        optimizer.zero_grad()\n",
    "        outputs = model(imgs.to(device))\n",
    "        loss_ = loss(outputs, labels.to(device))\n",
    "        loss_.backward()\n",
    "        optimizer.step()\n",
    "\n",
    "        _, predicted = torch.max(outputs, dim=1)\n",
    "        total += labels.shape[0]\n",
    "        correct += (predicted == labels).sum().item()\n",
    "\n",
    "    acc = correct/total\n",
    "\n",
    "    print(f'Epoch {epoch} | Loss: {loss_:.10f} | Accuracy: {acc:.10f}')    \n",
    "\n",
    "\n",
    "model.eval()\n",
    "\n",
    "correct = 0\n",
    "total = 0\n",
    "\n",
    "# Disable gradient computation for efficiency\n",
    "with torch.no_grad():\n",
    "    for images, labels in test_loader:\n",
    "        images, labels = images.to(device), labels.to(device)\n",
    "\n",
    "        outputs = model(images)\n",
    "\n",
    "        _, predicted = torch.max(outputs, dim=1)\n",
    "\n",
    "        total += labels.size(0)\n",
    "        correct += (predicted == labels).sum().item()\n",
    "\n",
    "test_accuracy = correct / total\n",
    "print(f'Test Accuracy: {test_accuracy:.4f}')"
   ]
  },
  {
   "cell_type": "markdown",
   "metadata": {
    "id": "nnuVwb1B000-"
   },
   "source": [
    "### (b) The CIFAR-10 dataset\n",
    "\n",
    "CIFAR-10 is a image dataset consisting of $28 \\times 28$ RGB images classified into 10 classes. We will use FCNs to classify these images."
   ]
  },
  {
   "cell_type": "code",
   "execution_count": 155,
   "metadata": {
    "executionInfo": {
     "elapsed": 1142,
     "status": "ok",
     "timestamp": 1731719641277,
     "user": {
      "displayName": "Hyunwoo Oh",
      "userId": "01487607433977069291"
     },
     "user_tz": 300
    },
    "id": "gPx7DQMC04_a"
   },
   "outputs": [],
   "source": [
    "# Load in relevant libraries, and alias where appropriate\n",
    "import torch\n",
    "import torch.nn as nn\n",
    "import torchvision\n",
    "import torchvision.transforms as transforms\n",
    "import torch.nn.functional as F"
   ]
  },
  {
   "cell_type": "code",
   "execution_count": 156,
   "metadata": {
    "executionInfo": {
     "elapsed": 341,
     "status": "ok",
     "timestamp": 1731719643109,
     "user": {
      "displayName": "Hyunwoo Oh",
      "userId": "01487607433977069291"
     },
     "user_tz": 300
    },
    "id": "PW2Fo7KJ07eR"
   },
   "outputs": [],
   "source": [
    "device = torch.device('cuda' if torch.cuda.is_available() else 'cpu')"
   ]
  },
  {
   "cell_type": "markdown",
   "metadata": {
    "id": "T1BlX1RIENKK"
   },
   "source": [
    "Data loading"
   ]
  },
  {
   "cell_type": "code",
   "execution_count": 168,
   "metadata": {
    "colab": {
     "base_uri": "https://localhost:8080/"
    },
    "executionInfo": {
     "elapsed": 18886,
     "status": "ok",
     "timestamp": 1731719663470,
     "user": {
      "displayName": "Hyunwoo Oh",
      "userId": "01487607433977069291"
     },
     "user_tz": 300
    },
    "id": "y7pR9BET1AGG",
    "outputId": "6cd947fe-adaf-4d2a-ba59-d0d5979aeab6"
   },
   "outputs": [],
   "source": [
    "transform = transforms.Compose(\n",
    "    [transforms.ToTensor(),\n",
    "     transforms.Normalize((0.5, 0.5, 0.5), (0.5, 0.5, 0.5))])\n",
    "\n",
    "\n",
    "#Hyperparameters\n",
    "\n",
    "lr_rate = 0.1\n",
    "input_size = X_train.shape[1]\n",
    "hidden_size = 128\n",
    "num_epochs = 10\n",
    "batch_size = 512\n",
    "\n",
    "\n",
    "\n",
    "\n",
    "train_set = torchvision.datasets.CIFAR10(root='./data', train=True,\n",
    "                                         download=True, transform=transform)\n",
    "train_loader = torch.utils.data.DataLoader(train_set, batch_size=batch_size,\n",
    "                                           shuffle=True, num_workers=2)\n",
    "\n",
    "test_set = torchvision.datasets.CIFAR10(root='./data', train=False,\n",
    "                                        download=True, transform=transform)\n",
    "test_loader = torch.utils.data.DataLoader(test_set, batch_size=batch_size,\n",
    "                                          shuffle=False, num_workers=2)\n",
    "\n",
    "classes = ('plane', 'car', 'bird', 'cat',\n",
    "           'deer', 'dog', 'frog', 'horse', 'ship', 'truck')"
   ]
  },
  {
   "cell_type": "markdown",
   "metadata": {
    "id": "g_D2qSR92nyj"
   },
   "source": [
    "Let us look at some images\n",
    "\n"
   ]
  },
  {
   "cell_type": "code",
   "execution_count": 160,
   "metadata": {
    "colab": {
     "base_uri": "https://localhost:8080/",
     "height": 615
    },
    "executionInfo": {
     "elapsed": 2065,
     "status": "ok",
     "timestamp": 1731719666150,
     "user": {
      "displayName": "Hyunwoo Oh",
      "userId": "01487607433977069291"
     },
     "user_tz": 300
    },
    "id": "BR1ZYk7y3BmY",
    "outputId": "0a60083f-b18c-44fe-8710-48f193886f69"
   },
   "outputs": [
    {
     "data": {
      "image/png": "[encoded data removed]",
      "text/plain": [
       "<Figure size 1000x700 with 9 Axes>"
      ]
     },
     "metadata": {},
     "output_type": "display_data"
    }
   ],
   "source": [
    "import matplotlib.pyplot as plt\n",
    "\n",
    "plot_set = torchvision.datasets.CIFAR10(root = './data', train = True, download = True, transform = transforms.Compose([transforms.ToTensor()])  )\n",
    "\n",
    "fig, axes = plt.subplots(3, 3, figsize = (10, 7))\n",
    "for i in range(3):\n",
    "    for j in range(3):\n",
    "        ax = axes[i][j]\n",
    "        rand_int = np.random.randint(low = 0, high = len(train_set), size = (1,)).squeeze()\n",
    "        img, label = plot_set[rand_int]\n",
    "        img = np.transpose(img, (1, 2, 0))\n",
    "        ax.imshow(img)\n",
    "        ax.set_title(f'{classes[label]}')\n",
    "        ax.axis('off')\n"
   ]
  },
  {
   "cell_type": "markdown",
   "metadata": {
    "id": "aDGmI62ECMl4"
   },
   "source": [
    "### Task: Train FCN on the CIFAR-10 dataset and report test accuracy."
   ]
  },
  {
   "cell_type": "markdown",
   "metadata": {
    "id": "qLPlf7YhCCvr"
   },
   "source": [
    "\n",
    "* Define FCN with input dimensions $32 \\times 32 \\times 3$ and output dimensions 10.\n",
    "* In the forward function of the model, reshape the inputs from shape (B, 3, 32, 32) to (B, 32 * 32 * 3), where B is the batch size."
   ]
  },
  {
   "cell_type": "code",
   "execution_count": 165,
   "metadata": {},
   "outputs": [
    {
     "data": {
      "text/plain": [
       "torch.Size([3, 32, 32])"
      ]
     },
     "execution_count": 165,
     "metadata": {},
     "output_type": "execute_result"
    }
   ],
   "source": [
    "train_set[0][0].shape"
   ]
  },
  {
   "cell_type": "code",
   "execution_count": 169,
   "metadata": {
    "colab": {
     "base_uri": "https://localhost:8080/"
    },
    "executionInfo": {
     "elapsed": 127277,
     "status": "ok",
     "timestamp": 1731720489946,
     "user": {
      "displayName": "Hyunwoo Oh",
      "userId": "01487607433977069291"
     },
     "user_tz": 300
    },
    "id": "-ZrfMlSaCCV6",
    "outputId": "ee81cf51-357a-4cb1-bb3e-22a6582b8c8e"
   },
   "outputs": [
    {
     "name": "stdout",
     "output_type": "stream",
     "text": [
      "Epoch 0 | Loss: 1.8396 | Accuracy: 0.2878\n",
      "Epoch 1 | Loss: 1.6347 | Accuracy: 0.3867\n",
      "Epoch 2 | Loss: 1.5847 | Accuracy: 0.4250\n",
      "Epoch 3 | Loss: 1.5489 | Accuracy: 0.4497\n",
      "Epoch 4 | Loss: 1.4763 | Accuracy: 0.4703\n",
      "Epoch 5 | Loss: 1.4911 | Accuracy: 0.4848\n",
      "Epoch 6 | Loss: 1.4614 | Accuracy: 0.4965\n",
      "Epoch 7 | Loss: 1.4177 | Accuracy: 0.5120\n",
      "Epoch 8 | Loss: 1.4030 | Accuracy: 0.5243\n",
      "Epoch 9 | Loss: 1.4106 | Accuracy: 0.5322\n",
      "Test Accuracy: 0.4971\n"
     ]
    }
   ],
   "source": [
    "class NeuralNet(nn.Module):\n",
    "    def __init__(self, input_size, hidden_size, num_classes):\n",
    "        super(NeuralNet, self).__init__()\n",
    "        self.fc1 = nn.Linear(input_size, hidden_size)\n",
    "        self.fc2 = nn.Linear(hidden_size, hidden_size)\n",
    "        self.fc3 = nn.Linear(hidden_size, num_classes)\n",
    "        self.ReLU = nn.ReLU()\n",
    "\n",
    "    def forward(self, x):\n",
    "        x = x.view(x.size(0), -1)  # resize in case the input is an image\n",
    "        x = self.ReLU(self.fc1(x))\n",
    "        x = self.ReLU(self.fc2(x))\n",
    "        x = self.fc3(x)\n",
    "        return x\n",
    "\n",
    "\n",
    "input_size, num_classes = 32*32*3, 10\n",
    "\n",
    "model = NeuralNet(input_size, hidden_size, num_classes)\n",
    "\n",
    "# model, input output data should be on the same device\n",
    "model.to(device)\n",
    "\n",
    "loss = nn.CrossEntropyLoss()\n",
    "optimizer = torch.optim.SGD(model.parameters(), lr=lr_rate)\n",
    "\n",
    "n_total_steps = len(train_loader)\n",
    "\n",
    "for epoch in range(num_epochs):\n",
    "\n",
    "    correct, total = 0, 0\n",
    "\n",
    "    for i, (imgs, labels) in enumerate(train_loader):\n",
    "        optimizer.zero_grad()\n",
    "        outputs = model(imgs.to(device))\n",
    "        loss_ = loss(outputs, labels.to(device))\n",
    "        loss_.backward()\n",
    "        optimizer.step()\n",
    "\n",
    "        _, predicted = torch.max(outputs, dim=1)\n",
    "        total += labels.shape[0]\n",
    "        correct += (predicted == labels).sum().item()\n",
    "\n",
    "    acc = correct / total\n",
    "\n",
    "    print(f'Epoch {epoch} | Loss: {loss_:.4f} | Accuracy: {acc:.4f}')\n",
    "\n",
    "\n",
    "model.eval()\n",
    "\n",
    "correct = 0\n",
    "total = 0\n",
    "\n",
    "# Disable gradient computation for efficiency\n",
    "with torch.no_grad():\n",
    "    for images, labels in test_loader:\n",
    "        images, labels = images.to(device), labels.to(device)\n",
    "\n",
    "        outputs = model(images)\n",
    "\n",
    "        _, predicted = torch.max(outputs, dim=1)\n",
    "\n",
    "        total += labels.size(0)\n",
    "        correct += (predicted == labels).sum().item()\n",
    "\n",
    "test_accuracy = correct / total\n",
    "print(f'Test Accuracy: {test_accuracy:.4f}')"
   ]
  },
  {
   "cell_type": "markdown",
   "metadata": {
    "id": "jmyRqZCQ1x-L"
   },
   "source": [
    "# Problem 4: Implementing CNNs using Pytorch nn.Module\n",
    "\n",
    "In this problem, we will implement LeNet CNN (https://en.wikipedia.org/wiki/LeNet) using Pytorch nn.Module to classify (a) CIFAR-10 dataset and (b) Galaxy dataset"
   ]
  },
  {
   "cell_type": "code",
   "execution_count": 170,
   "metadata": {
    "executionInfo": {
     "elapsed": 822,
     "status": "ok",
     "timestamp": 1731726549919,
     "user": {
      "displayName": "Hyunwoo Oh",
      "userId": "01487607433977069291"
     },
     "user_tz": 300
    },
    "id": "0quYTHCjqsTL"
   },
   "outputs": [],
   "source": [
    "# Load in relevant libraries, and alias where appropriate\n",
    "import torch\n",
    "import torch.nn as nn\n",
    "import torchvision\n",
    "import torchvision.transforms as transforms\n",
    "import torch.nn.functional as F"
   ]
  },
  {
   "cell_type": "code",
   "execution_count": 171,
   "metadata": {
    "executionInfo": {
     "elapsed": 411,
     "status": "ok",
     "timestamp": 1731726552077,
     "user": {
      "displayName": "Hyunwoo Oh",
      "userId": "01487607433977069291"
     },
     "user_tz": 300
    },
    "id": "tORSYwD09yLA"
   },
   "outputs": [],
   "source": [
    "device = torch.device('cuda' if torch.cuda.is_available() else 'cpu')"
   ]
  },
  {
   "cell_type": "markdown",
   "metadata": {
    "id": "zihFTa3bmmSu"
   },
   "source": [
    "## (a) CIFAR-10 dataset"
   ]
  },
  {
   "cell_type": "markdown",
   "metadata": {
    "id": "PCRlH-1f8Hto"
   },
   "source": [
    "Load data"
   ]
  },
  {
   "cell_type": "code",
   "execution_count": 172,
   "metadata": {
    "colab": {
     "base_uri": "https://localhost:8080/"
    },
    "executionInfo": {
     "elapsed": 2541,
     "status": "ok",
     "timestamp": 1731727397388,
     "user": {
      "displayName": "Hyunwoo Oh",
      "userId": "01487607433977069291"
     },
     "user_tz": 300
    },
    "id": "qSpiKVS8u1Bl",
    "outputId": "4c12cc43-77d4-404b-d102-2094e28da443"
   },
   "outputs": [],
   "source": [
    "transform = transforms.Compose(\n",
    "    [\n",
    "     transforms.ToTensor(),\n",
    "     transforms.Normalize((0.5, 0.5, 0.5), (0.5, 0.5, 0.5))\n",
    "     ]\n",
    "     )\n",
    "\n",
    "batch_size = 128\n",
    "\n",
    "train_set = torchvision.datasets.CIFAR10(root='./data', train=True,\n",
    "                                        download=True, transform=transform)\n",
    "train_loader = torch.utils.data.DataLoader(train_set, batch_size=batch_size,\n",
    "                                          shuffle=True, num_workers=2)\n",
    "\n",
    "test_set = torchvision.datasets.CIFAR10(root='./data', train=False,\n",
    "                                       download=True, transform=transform)\n",
    "test_loader = torch.utils.data.DataLoader(test_set, batch_size=batch_size,\n",
    "                                         shuffle=False, num_workers=2)\n",
    "\n",
    "classes = ('plane', 'car', 'bird', 'cat',\n",
    "           'deer', 'dog', 'frog', 'horse', 'ship', 'truck')"
   ]
  },
  {
   "cell_type": "markdown",
   "metadata": {
    "id": "EsMp5XL61qY2"
   },
   "source": [
    "### Task: Define the layers of the LeNet architecture using the following torch layers:\n",
    "* nn.Conv2d with 3 input channel, 6 output channels, and a kernel size of 5.\n",
    "* nn.MaxPool2d with a kernel size of 2.\n",
    "* nn.Conv2d with 6 input channels, 16 output channels, and a kernel size of 5.\n",
    "* nn.MaxPool2d with a kernel size of 2.\n",
    "* nn.Linear with 16 * 5 * 5 input features and 120 output features.\n",
    "* nn.Linear with 120 input features and 84 output features.\n",
    "* nn.Linear with 84 input features and 10 output features.\n",
    "In the forward method, define the forward pass of the LeNet architecture using the layers defined in __init__."
   ]
  },
  {
   "cell_type": "code",
   "execution_count": 173,
   "metadata": {
    "executionInfo": {
     "elapsed": 2,
     "status": "ok",
     "timestamp": 1731728078831,
     "user": {
      "displayName": "Hyunwoo Oh",
      "userId": "01487607433977069291"
     },
     "user_tz": 300
    },
    "id": "NfAjIEt1E3aq"
   },
   "outputs": [],
   "source": [
    "num_classes = 10\n",
    "\n",
    "class LeNet(nn.Module):\n",
    "    def __init__(self):\n",
    "        super(LeNet, self).__init__()\n",
    "        self.conv1 = nn.Conv2d(3, 6, 5)\n",
    "        self.conv2 = nn.Conv2d(6, 16, 5)\n",
    "\n",
    "        self.maxpool2d = nn.MaxPool2d(2)\n",
    "\n",
    "        self.fc1 = nn.Linear(16*5*5, 120)\n",
    "        self.fc2 = nn.Linear(120, 84)\n",
    "        self.fc3 = nn.Linear(84, 10)\n",
    "        self.ReLU = nn.ReLU()\n",
    "\n",
    "    def forward(self, x):\n",
    "        x = self.maxpool2d(torch.sigmoid(self.conv1(x)))\n",
    "        x = self.maxpool2d(torch.sigmoid(self.conv2(x)))\n",
    "\n",
    "        x = torch.sigmoid(self.fc1(x.view(x.size(0),-1)))\n",
    "        x = torch.sigmoid(self.fc2(x))\n",
    "        x = self.fc3(x)\n",
    "\n",
    "        return x"
   ]
  },
  {
   "cell_type": "markdown",
   "metadata": {
    "id": "VC_HAR0DE84I"
   },
   "source": [
    "Hyperparameters"
   ]
  },
  {
   "cell_type": "code",
   "execution_count": 175,
   "metadata": {
    "executionInfo": {
     "elapsed": 2,
     "status": "ok",
     "timestamp": 1731727425243,
     "user": {
      "displayName": "Hyunwoo Oh",
      "userId": "01487607433977069291"
     },
     "user_tz": 300
    },
    "id": "uRKxwwtnu7MH"
   },
   "outputs": [],
   "source": [
    "learning_rate = 0.01\n",
    "num_classes = 10\n",
    "num_epochs = 10\n",
    "n_total_steps = len(train_loader)"
   ]
  },
  {
   "cell_type": "markdown",
   "metadata": {
    "id": "Z1nvlHsP8K2d"
   },
   "source": [
    "### Task: Train LeNet on the CIFAR-10 dataset and report test accuracy."
   ]
  },
  {
   "cell_type": "code",
   "execution_count": 176,
   "metadata": {
    "id": "CnjvSGVYq1dU"
   },
   "outputs": [
    {
     "name": "stdout",
     "output_type": "stream",
     "text": [
      "Epoch 0 | Loss: 2.3023207188 | Accuracy: 0.0991600000\n",
      "Epoch 1 | Loss: 2.3124597073 | Accuracy: 0.0991000000\n",
      "Epoch 2 | Loss: 2.3035187721 | Accuracy: 0.0988200000\n",
      "Epoch 3 | Loss: 2.3171153069 | Accuracy: 0.0995800000\n",
      "Epoch 4 | Loss: 2.2862877846 | Accuracy: 0.0991800000\n",
      "Epoch 5 | Loss: 2.3060297966 | Accuracy: 0.0984400000\n",
      "Epoch 6 | Loss: 2.3207345009 | Accuracy: 0.0991400000\n",
      "Epoch 7 | Loss: 2.3018946648 | Accuracy: 0.0992800000\n",
      "Epoch 8 | Loss: 2.2997505665 | Accuracy: 0.0982000000\n",
      "Epoch 9 | Loss: 2.3031287193 | Accuracy: 0.0993400000\n",
      "Test Accuracy: 0.1000\n"
     ]
    }
   ],
   "source": [
    "model = LeNet().float().to(device)\n",
    "\n",
    "# model, input output data should be on the same device\n",
    "model.to(device)\n",
    "\n",
    "loss = nn.CrossEntropyLoss()\n",
    "optimizer = torch.optim.SGD(model.parameters(), lr=lr_rate)\n",
    "\n",
    "n_total_steps = len(train_loader)\n",
    "\n",
    "for epoch in range(num_epochs):\n",
    "    correct, total = 0, 0\n",
    "    for i, (imgs, labels) in enumerate(train_loader):\n",
    "        optimizer.zero_grad()\n",
    "\n",
    "        outputs = model(imgs.to(device))\n",
    "        loss_ = loss(outputs, labels.to(device))\n",
    "        loss_.backward()\n",
    "        optimizer.step()\n",
    "\n",
    "        _, predicted = torch.max(outputs, dim=1)\n",
    "        total += labels.shape[0]\n",
    "        correct += (predicted == labels).sum().item()\n",
    "\n",
    "    acc = correct/total\n",
    "\n",
    "    print(f'Epoch {epoch} | Loss: {loss_:.4f} | Accuracy: {acc:.4f}')\n",
    "\n",
    "\n",
    "\n",
    "model.eval()\n",
    "\n",
    "correct = 0\n",
    "total = 0\n",
    "\n",
    "# Disable gradient computation for efficiency\n",
    "with torch.no_grad():\n",
    "    for images, labels in test_loader:\n",
    "        images, labels = images.to(device), labels.to(device)\n",
    "\n",
    "        outputs = model(images)\n",
    "\n",
    "        _, predicted = torch.max(outputs, dim=1)\n",
    "\n",
    "        total += labels.size(0)\n",
    "        correct += (predicted == labels).sum().item()\n",
    "\n",
    "test_accuracy = correct / total\n",
    "print(f'Test Accuracy: {test_accuracy:.4f}')"
   ]
  },
  {
   "cell_type": "markdown",
   "metadata": {
    "id": "rIcYEStrmK1K"
   },
   "source": [
    "## (b) Galaxy dataset"
   ]
  },
  {
   "cell_type": "code",
   "execution_count": 1,
   "metadata": {
    "colab": {
     "base_uri": "https://localhost:8080/"
    },
    "executionInfo": {
     "elapsed": 22531,
     "status": "ok",
     "timestamp": 1731725014790,
     "user": {
      "displayName": "Hyunwoo Oh",
      "userId": "01487607433977069291"
     },
     "user_tz": 300
    },
    "id": "1J3pd1gb8bLZ",
    "outputId": "2b5f493c-ba5e-4702-a1ac-40cf7fe09a33"
   },
   "outputs": [],
   "source": [
    "!pip install -q tensorflow\n",
    "!pip install -q tensorflow_probability\n",
    "!pip install -q git+https://github.com/henrysky/astroNN.git"
   ]
  },
  {
   "cell_type": "code",
   "execution_count": 177,
   "metadata": {
    "executionInfo": {
     "elapsed": 7502,
     "status": "ok",
     "timestamp": 1731725026385,
     "user": {
      "displayName": "Hyunwoo Oh",
      "userId": "01487607433977069291"
     },
     "user_tz": 300
    },
    "id": "KzgsYzOO2ZMZ"
   },
   "outputs": [],
   "source": [
    "from astroNN.datasets import load_galaxy10sdss\n",
    "from astroNN.datasets.galaxy10sdss import galaxy10cls_lookup, galaxy10_confusion\n",
    "from sklearn.model_selection import train_test_split\n",
    "import numpy as np\n",
    "import torch\n",
    "import torch.nn as nn\n",
    "import torch.nn.functional as F"
   ]
  },
  {
   "cell_type": "code",
   "execution_count": 178,
   "metadata": {
    "colab": {
     "base_uri": "https://localhost:8080/"
    },
    "executionInfo": {
     "elapsed": 419,
     "status": "ok",
     "timestamp": 1731725028037,
     "user": {
      "displayName": "Hyunwoo Oh",
      "userId": "01487607433977069291"
     },
     "user_tz": 300
    },
    "id": "QHSMmVPdq5IP",
    "outputId": "78ca7d31-9d3b-4ff1-a640-b30208411761"
   },
   "outputs": [
    {
     "name": "stdout",
     "output_type": "stream",
     "text": [
      "Device: cpu\n"
     ]
    }
   ],
   "source": [
    "device = 'cuda' if torch.cuda.is_available() else 'cpu'\n",
    "print(f'Device: {device}')"
   ]
  },
  {
   "cell_type": "code",
   "execution_count": 179,
   "metadata": {
    "colab": {
     "base_uri": "https://localhost:8080/"
    },
    "executionInfo": {
     "elapsed": 31800,
     "status": "ok",
     "timestamp": 1731725061877,
     "user": {
      "displayName": "Hyunwoo Oh",
      "userId": "01487607433977069291"
     },
     "user_tz": 300
    },
    "id": "UHbM2It58fmv",
    "outputId": "b81765c6-9b70-4256-83a2-38b83b627216"
   },
   "outputs": [
    {
     "name": "stdout",
     "output_type": "stream",
     "text": [
      "/Users/hyunwoooh/.astroNN/datasets/Galaxy10.h5 was found!\n"
     ]
    }
   ],
   "source": [
    "images, labels = load_galaxy10sdss()\n",
    "images = images.astype(np.float32)\n",
    "\n",
    "images = images.transpose( (0, 3, 1, 2) )\n",
    "\n",
    "train_idx, test_idx = train_test_split(np.arange(labels.shape[0]), test_size=0.1)\n",
    "train_images, train_labels, test_images, test_labels = images[train_idx], labels[train_idx], images[test_idx], labels[test_idx]"
   ]
  },
  {
   "cell_type": "markdown",
   "metadata": {
    "id": "R6LP1Hce8jvs"
   },
   "source": [
    "Let us check the image size and number of classes"
   ]
  },
  {
   "cell_type": "code",
   "execution_count": 180,
   "metadata": {
    "colab": {
     "base_uri": "https://localhost:8080/"
    },
    "executionInfo": {
     "elapsed": 774,
     "status": "ok",
     "timestamp": 1731725063708,
     "user": {
      "displayName": "Hyunwoo Oh",
      "userId": "01487607433977069291"
     },
     "user_tz": 300
    },
    "id": "29O6Hee98jeU",
    "outputId": "408fd90f-e3c8-454d-d0b4-bf51eaed949f"
   },
   "outputs": [
    {
     "name": "stdout",
     "output_type": "stream",
     "text": [
      "Image size: (19606, 3, 69, 69), Classes: [0 1 2 3 4 5 6 7 8 9]\n"
     ]
    }
   ],
   "source": [
    "print(f'Image size: {train_images.shape}, Classes: {np.unique(train_labels)}')"
   ]
  },
  {
   "cell_type": "markdown",
   "metadata": {
    "id": "Ayn7_-g1-P7w"
   },
   "source": [
    "Let us explore some images from the dataset."
   ]
  },
  {
   "cell_type": "code",
   "execution_count": 181,
   "metadata": {
    "colab": {
     "base_uri": "https://localhost:8080/",
     "height": 598
    },
    "executionInfo": {
     "elapsed": 1547,
     "status": "ok",
     "timestamp": 1731725065252,
     "user": {
      "displayName": "Hyunwoo Oh",
      "userId": "01487607433977069291"
     },
     "user_tz": 300
    },
    "id": "VEShk-TC-Wjq",
    "outputId": "8af398e1-ebe3-43c0-cc60-215001050926"
   },
   "outputs": [
    {
     "data": {
      "image/png": "[encoded data removed]",
      "text/plain": [
       "<Figure size 1000x700 with 9 Axes>"
      ]
     },
     "metadata": {},
     "output_type": "display_data"
    }
   ],
   "source": [
    "import matplotlib.pyplot as plt\n",
    "\n",
    "num_plots = 3\n",
    "fig, axes = plt.subplots(num_plots, num_plots, figsize = (10, 7))\n",
    "\n",
    "for i in range(num_plots):\n",
    "    for j in range(num_plots):\n",
    "        ax = axes[i][j]\n",
    "        rand_int = np.random.randint(low = 0, high = len(train_images), size = (1,)).squeeze()\n",
    "        img = train_images[rand_int] / 255.0\n",
    "        img = np.transpose(img, (1, 2, 0))\n",
    "        ax.imshow(img)\n",
    "        ax.set_title(f'{galaxy10cls_lookup(rand_int)}')\n",
    "        ax.axis('off')\n"
   ]
  },
  {
   "cell_type": "markdown",
   "metadata": {
    "id": "xc6tQjnu8pQt"
   },
   "source": [
    "Create a torch dataset for the Galaxy dataset"
   ]
  },
  {
   "cell_type": "code",
   "execution_count": 182,
   "metadata": {
    "executionInfo": {
     "elapsed": 3,
     "status": "ok",
     "timestamp": 1731725065253,
     "user": {
      "displayName": "Hyunwoo Oh",
      "userId": "01487607433977069291"
     },
     "user_tz": 300
    },
    "id": "Hlbj6wif8osu"
   },
   "outputs": [],
   "source": [
    "class GalaxyDataset(torch.utils.data.Dataset):\n",
    "    def __init__(self, x, y):\n",
    "        self.x = x\n",
    "        self.y = y\n",
    "\n",
    "    def __len__(self):\n",
    "        return len(self.x)\n",
    "\n",
    "    def __getitem__(self, index):\n",
    "        image = self.x[index]\n",
    "        label = self.y[index]\n",
    "        return image, label\n",
    "\n",
    "batch_size = 512\n",
    "\n",
    "train_dataset = GalaxyDataset(train_images, train_labels)\n",
    "test_dataset = GalaxyDataset(test_images, test_labels)\n",
    "\n",
    "train_loader = torch.utils.data.DataLoader(dataset = train_dataset, batch_size = batch_size, shuffle = True)\n",
    "test_loader = torch.utils.data.DataLoader(dataset = test_dataset, batch_size = batch_size, shuffle = False)\n"
   ]
  },
  {
   "cell_type": "markdown",
   "metadata": {
    "id": "jRlX_PEa8wKk"
   },
   "source": [
    "### Task: Define the layers of the LeNet architecture using the following torch layers:\n",
    "\n",
    "* nn.Conv2d with 3 input channel, 8 output channels, and a kernel size of 5.\n",
    "* nn.MaxPool2d with a kernel size of 2.\n",
    "* nn.Conv2d with 8 input channels, 16 output channels, and a kernel size of 5.\n",
    "* nn.MaxPool2d with a kernel size of 2.\n",
    "* nn.Linear with 3136 input features and 120 output features.\n",
    "* nn.Linear with 240 input features and 84 output features.\n",
    "* nn.Linear with 84 input features and 10 output features.\n",
    "\n"
   ]
  },
  {
   "cell_type": "code",
   "execution_count": 183,
   "metadata": {
    "executionInfo": {
     "elapsed": 582,
     "status": "ok",
     "timestamp": 1731725079536,
     "user": {
      "displayName": "Hyunwoo Oh",
      "userId": "01487607433977069291"
     },
     "user_tz": 300
    },
    "id": "51jztvtP81KY"
   },
   "outputs": [],
   "source": [
    "class LeNet(nn.Module):\n",
    "    def __init__(self):\n",
    "        super(LeNet, self).__init__()\n",
    "        self.conv1 = nn.Conv2d(3, 8, 5)\n",
    "        self.conv2 = nn.Conv2d(8, 16, 5)\n",
    "\n",
    "        self.maxpool2d = nn.MaxPool2d(2)\n",
    "\n",
    "        self.fc1 = nn.Linear(3136, 120)\n",
    "        self.fc2 = nn.Linear(120, 84)\n",
    "        self.fc3 = nn.Linear(84, 10)\n",
    "        self.ReLU = nn.ReLU()\n",
    "\n",
    "    def forward(self, x):\n",
    "        x = self.maxpool2d(torch.sigmoid(self.conv1(x)))\n",
    "        x = self.maxpool2d(torch.sigmoid(self.conv2(x)))\n",
    "\n",
    "        x = torch.sigmoid(self.fc1(x.view(x.size(0),-1)))\n",
    "        x = torch.sigmoid(self.fc2(x))\n",
    "        x = self.fc3(x)\n",
    "\n",
    "        return x"
   ]
  },
  {
   "cell_type": "markdown",
   "metadata": {
    "id": "amtsX2x-9q-F"
   },
   "source": [
    "Hyperparameters"
   ]
  },
  {
   "cell_type": "code",
   "execution_count": 185,
   "metadata": {
    "executionInfo": {
     "elapsed": 2,
     "status": "ok",
     "timestamp": 1731725080863,
     "user": {
      "displayName": "Hyunwoo Oh",
      "userId": "01487607433977069291"
     },
     "user_tz": 300
    },
    "id": "SxAp4Q1P9ocK"
   },
   "outputs": [],
   "source": [
    "learning_rate = 1e-3\n",
    "num_classes = 10\n",
    "num_epochs = 10\n",
    "n_total_steps = len(train_loader)"
   ]
  },
  {
   "cell_type": "markdown",
   "metadata": {
    "id": "2ZYdWULp9seA"
   },
   "source": [
    "### Task: Train LeNet on the Galaxy classification dataset report test accuracy."
   ]
  },
  {
   "cell_type": "code",
   "execution_count": 186,
   "metadata": {
    "colab": {
     "base_uri": "https://localhost:8080/",
     "height": 350
    },
    "executionInfo": {
     "elapsed": 359,
     "status": "error",
     "timestamp": 1731725109589,
     "user": {
      "displayName": "Hyunwoo Oh",
      "userId": "01487607433977069291"
     },
     "user_tz": 300
    },
    "id": "vSj_vLbo9qgr",
    "outputId": "b9fbb903-698d-4890-c4ea-0f9fab121715"
   },
   "outputs": [
    {
     "name": "stdout",
     "output_type": "stream",
     "text": [
      "Epoch 0 | Loss: 2.1571409702 | Accuracy: 0.2188615730\n",
      "Epoch 1 | Loss: 2.0895683765 | Accuracy: 0.3202591044\n",
      "Epoch 2 | Loss: 2.0175912380 | Accuracy: 0.3202591044\n",
      "Epoch 3 | Loss: 1.9901955128 | Accuracy: 0.3202591044\n",
      "Epoch 4 | Loss: 2.0371153355 | Accuracy: 0.3202591044\n",
      "Epoch 5 | Loss: 1.9175691605 | Accuracy: 0.3202591044\n",
      "Epoch 6 | Loss: 1.9044097662 | Accuracy: 0.3202591044\n",
      "Epoch 7 | Loss: 1.8355157375 | Accuracy: 0.3202591044\n",
      "Epoch 8 | Loss: 1.8568910360 | Accuracy: 0.3202591044\n",
      "Epoch 9 | Loss: 1.8656339645 | Accuracy: 0.3202591044\n",
      "Test Accuracy: 0.3295\n"
     ]
    }
   ],
   "source": [
    "model = LeNet().float().to(device)\n",
    "\n",
    "# model, input output data should be on the same device\n",
    "model.to(device)\n",
    "\n",
    "loss = nn.CrossEntropyLoss()\n",
    "optimizer = torch.optim.SGD(model.parameters(), lr=learning_rate)\n",
    "\n",
    "n_total_steps = len(train_loader)\n",
    "\n",
    "\n",
    "for epoch in range(num_epochs):\n",
    "    correct, total = 0, 0\n",
    "    for i, (imgs, labels) in enumerate(train_loader):\n",
    "        optimizer.zero_grad()\n",
    "\n",
    "        outputs = model(imgs.to(device))\n",
    "        loss_ = loss(outputs, labels.to(device))\n",
    "        loss_.backward()\n",
    "        optimizer.step()\n",
    "\n",
    "        _, predicted = torch.max(outputs, dim=1)\n",
    "        total += labels.shape[0]\n",
    "        correct += (predicted == labels).sum().item()\n",
    "\n",
    "    acc = correct/total\n",
    "\n",
    "    print(f'Epoch {epoch} | Loss: {loss_:.10f} | Accuracy: {acc:.10f}')\n",
    "\n",
    "\n",
    "\n",
    "model.eval()\n",
    "\n",
    "correct = 0\n",
    "total = 0\n",
    "\n",
    "# Disable gradient computation for efficiency\n",
    "with torch.no_grad():\n",
    "    for images, labels in test_loader:\n",
    "        images, labels = images.to(device), labels.to(device)\n",
    "\n",
    "        outputs = model(images)\n",
    "\n",
    "        _, predicted = torch.max(outputs, dim=1)\n",
    "\n",
    "        total += labels.size(0)\n",
    "        correct += (predicted == labels).sum().item()\n",
    "\n",
    "test_accuracy = correct / total\n",
    "print(f'Test Accuracy: {test_accuracy:.4f}')"
   ]
  }
 ],
 "metadata": {
  "accelerator": "GPU",
  "colab": {
   "machine_shape": "hm",
   "provenance": []
  },
  "gpuClass": "standard",
  "kernelspec": {
   "display_name": "ml",
   "language": "python",
   "name": "python3"
  },
  "language_info": {
   "codemirror_mode": {
    "name": "ipython",
    "version": 3
   },
   "file_extension": ".py",
   "mimetype": "text/x-python",
   "name": "python",
   "nbconvert_exporter": "python",
   "pygments_lexer": "ipython3",
   "version": "3.12.10"
  }
 },
 "nbformat": 4,
 "nbformat_minor": 0
}
